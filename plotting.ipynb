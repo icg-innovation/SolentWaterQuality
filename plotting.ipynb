{
 "cells": [
  {
   "cell_type": "code",
   "execution_count": 22,
   "id": "e220c39c-9f68-40d8-a7e2-e48fd5134904",
   "metadata": {},
   "outputs": [],
   "source": [
    "import pandas as pd\n",
    "import requests"
   ]
  },
  {
   "cell_type": "code",
   "execution_count": 2,
   "id": "43f6bbfd-713c-4922-8c85-522e39667322",
   "metadata": {},
   "outputs": [],
   "source": [
    "fname = '/mnt/lustre/datadive/Ecology/environmentaldata.csv'"
   ]
  },
  {
   "cell_type": "code",
   "execution_count": 3,
   "id": "e7a69f11-0104-4a47-a850-99aa9eb931e2",
   "metadata": {},
   "outputs": [],
   "source": [
    "data = pd.read_csv(fname, low_memory=False)"
   ]
  },
  {
   "cell_type": "code",
   "execution_count": 4,
   "id": "3658b0fc-9dca-44f9-ad1c-7590b50a4e73",
   "metadata": {},
   "outputs": [
    {
     "data": {
      "text/html": [
       "<div>\n",
       "<style scoped>\n",
       "    .dataframe tbody tr th:only-of-type {\n",
       "        vertical-align: middle;\n",
       "    }\n",
       "\n",
       "    .dataframe tbody tr th {\n",
       "        vertical-align: top;\n",
       "    }\n",
       "\n",
       "    .dataframe thead th {\n",
       "        text-align: right;\n",
       "    }\n",
       "</style>\n",
       "<table border=\"1\" class=\"dataframe\">\n",
       "  <thead>\n",
       "    <tr style=\"text-align: right;\">\n",
       "      <th></th>\n",
       "      <th>id</th>\n",
       "      <th>sample.samplingPoint</th>\n",
       "      <th>sample.samplingPoint.notation</th>\n",
       "      <th>sample.samplingPoint.label</th>\n",
       "      <th>sample.sampleDateTime</th>\n",
       "      <th>determinand.label</th>\n",
       "      <th>determinand.definition</th>\n",
       "      <th>determinand.notation</th>\n",
       "      <th>resultQualifier.notation</th>\n",
       "      <th>result</th>\n",
       "      <th>codedResultInterpretation.interpretation</th>\n",
       "      <th>determinand.unit.label</th>\n",
       "      <th>sample.sampledMaterialType.label</th>\n",
       "      <th>sample.isComplianceSample</th>\n",
       "      <th>sample.purpose.label</th>\n",
       "      <th>sample.samplingPoint.easting</th>\n",
       "      <th>sample.samplingPoint.northing</th>\n",
       "      <th>yr</th>\n",
       "      <th>month</th>\n",
       "      <th>day</th>\n",
       "    </tr>\n",
       "  </thead>\n",
       "  <tbody>\n",
       "    <tr>\n",
       "      <th>0</th>\n",
       "      <td>http://environment.data.gov.uk/water-quality/d...</td>\n",
       "      <td>http://environment.data.gov.uk/water-quality/i...</td>\n",
       "      <td>SO-19801A08</td>\n",
       "      <td>APSLEY FARM BOREHOLE A</td>\n",
       "      <td>2000-03-22 10:30:00</td>\n",
       "      <td>BOD ATU</td>\n",
       "      <td>BOD : 5 Day ATU</td>\n",
       "      <td>85</td>\n",
       "      <td>&lt;</td>\n",
       "      <td>3.00</td>\n",
       "      <td>NaN</td>\n",
       "      <td>mg/l</td>\n",
       "      <td>UNCODED</td>\n",
       "      <td>False</td>\n",
       "      <td>WASTE MONITORING (AGENCY AUDIT - PERMIT)</td>\n",
       "      <td>442350.0</td>\n",
       "      <td>146570</td>\n",
       "      <td>2000</td>\n",
       "      <td>3</td>\n",
       "      <td>22</td>\n",
       "    </tr>\n",
       "    <tr>\n",
       "      <th>1</th>\n",
       "      <td>http://environment.data.gov.uk/water-quality/d...</td>\n",
       "      <td>http://environment.data.gov.uk/water-quality/i...</td>\n",
       "      <td>SO-19801A08</td>\n",
       "      <td>APSLEY FARM BOREHOLE A</td>\n",
       "      <td>2000-03-22 10:30:00</td>\n",
       "      <td>Ammonia(N)</td>\n",
       "      <td>Ammoniacal Nitrogen as N</td>\n",
       "      <td>111</td>\n",
       "      <td>&lt;</td>\n",
       "      <td>0.50</td>\n",
       "      <td>NaN</td>\n",
       "      <td>mg/l</td>\n",
       "      <td>UNCODED</td>\n",
       "      <td>False</td>\n",
       "      <td>WASTE MONITORING (AGENCY AUDIT - PERMIT)</td>\n",
       "      <td>442350.0</td>\n",
       "      <td>146570</td>\n",
       "      <td>2000</td>\n",
       "      <td>3</td>\n",
       "      <td>22</td>\n",
       "    </tr>\n",
       "    <tr>\n",
       "      <th>2</th>\n",
       "      <td>http://environment.data.gov.uk/water-quality/d...</td>\n",
       "      <td>http://environment.data.gov.uk/water-quality/i...</td>\n",
       "      <td>SO-19801A08</td>\n",
       "      <td>APSLEY FARM BOREHOLE A</td>\n",
       "      <td>2000-03-22 10:30:00</td>\n",
       "      <td>Chloride Ion</td>\n",
       "      <td>Chloride</td>\n",
       "      <td>172</td>\n",
       "      <td>NaN</td>\n",
       "      <td>14.10</td>\n",
       "      <td>NaN</td>\n",
       "      <td>mg/l</td>\n",
       "      <td>UNCODED</td>\n",
       "      <td>False</td>\n",
       "      <td>WASTE MONITORING (AGENCY AUDIT - PERMIT)</td>\n",
       "      <td>442350.0</td>\n",
       "      <td>146570</td>\n",
       "      <td>2000</td>\n",
       "      <td>3</td>\n",
       "      <td>22</td>\n",
       "    </tr>\n",
       "    <tr>\n",
       "      <th>3</th>\n",
       "      <td>http://environment.data.gov.uk/water-quality/d...</td>\n",
       "      <td>http://environment.data.gov.uk/water-quality/i...</td>\n",
       "      <td>SO-19801A08</td>\n",
       "      <td>APSLEY FARM BOREHOLE A</td>\n",
       "      <td>2000-03-22 10:30:00</td>\n",
       "      <td>pH</td>\n",
       "      <td>pH</td>\n",
       "      <td>61</td>\n",
       "      <td>NaN</td>\n",
       "      <td>7.15</td>\n",
       "      <td>NaN</td>\n",
       "      <td>phunits</td>\n",
       "      <td>UNCODED</td>\n",
       "      <td>False</td>\n",
       "      <td>WASTE MONITORING (AGENCY AUDIT - PERMIT)</td>\n",
       "      <td>442350.0</td>\n",
       "      <td>146570</td>\n",
       "      <td>2000</td>\n",
       "      <td>3</td>\n",
       "      <td>22</td>\n",
       "    </tr>\n",
       "    <tr>\n",
       "      <th>4</th>\n",
       "      <td>http://environment.data.gov.uk/water-quality/d...</td>\n",
       "      <td>http://environment.data.gov.uk/water-quality/i...</td>\n",
       "      <td>SO-19801A08</td>\n",
       "      <td>APSLEY FARM BOREHOLE A</td>\n",
       "      <td>2000-03-22 10:30:00</td>\n",
       "      <td>COD as O2</td>\n",
       "      <td>Chemical Oxygen Demand :- {COD}</td>\n",
       "      <td>92</td>\n",
       "      <td>NaN</td>\n",
       "      <td>27.00</td>\n",
       "      <td>NaN</td>\n",
       "      <td>mg/l</td>\n",
       "      <td>UNCODED</td>\n",
       "      <td>False</td>\n",
       "      <td>WASTE MONITORING (AGENCY AUDIT - PERMIT)</td>\n",
       "      <td>442350.0</td>\n",
       "      <td>146570</td>\n",
       "      <td>2000</td>\n",
       "      <td>3</td>\n",
       "      <td>22</td>\n",
       "    </tr>\n",
       "  </tbody>\n",
       "</table>\n",
       "</div>"
      ],
      "text/plain": [
       "                                                  id  \\\n",
       "0  http://environment.data.gov.uk/water-quality/d...   \n",
       "1  http://environment.data.gov.uk/water-quality/d...   \n",
       "2  http://environment.data.gov.uk/water-quality/d...   \n",
       "3  http://environment.data.gov.uk/water-quality/d...   \n",
       "4  http://environment.data.gov.uk/water-quality/d...   \n",
       "\n",
       "                                sample.samplingPoint  \\\n",
       "0  http://environment.data.gov.uk/water-quality/i...   \n",
       "1  http://environment.data.gov.uk/water-quality/i...   \n",
       "2  http://environment.data.gov.uk/water-quality/i...   \n",
       "3  http://environment.data.gov.uk/water-quality/i...   \n",
       "4  http://environment.data.gov.uk/water-quality/i...   \n",
       "\n",
       "  sample.samplingPoint.notation sample.samplingPoint.label  \\\n",
       "0                   SO-19801A08     APSLEY FARM BOREHOLE A   \n",
       "1                   SO-19801A08     APSLEY FARM BOREHOLE A   \n",
       "2                   SO-19801A08     APSLEY FARM BOREHOLE A   \n",
       "3                   SO-19801A08     APSLEY FARM BOREHOLE A   \n",
       "4                   SO-19801A08     APSLEY FARM BOREHOLE A   \n",
       "\n",
       "  sample.sampleDateTime determinand.label           determinand.definition  \\\n",
       "0   2000-03-22 10:30:00           BOD ATU                  BOD : 5 Day ATU   \n",
       "1   2000-03-22 10:30:00        Ammonia(N)         Ammoniacal Nitrogen as N   \n",
       "2   2000-03-22 10:30:00      Chloride Ion                         Chloride   \n",
       "3   2000-03-22 10:30:00                pH                               pH   \n",
       "4   2000-03-22 10:30:00         COD as O2  Chemical Oxygen Demand :- {COD}   \n",
       "\n",
       "   determinand.notation resultQualifier.notation  result  \\\n",
       "0                    85                        <    3.00   \n",
       "1                   111                        <    0.50   \n",
       "2                   172                      NaN   14.10   \n",
       "3                    61                      NaN    7.15   \n",
       "4                    92                      NaN   27.00   \n",
       "\n",
       "   codedResultInterpretation.interpretation determinand.unit.label  \\\n",
       "0                                       NaN                   mg/l   \n",
       "1                                       NaN                   mg/l   \n",
       "2                                       NaN                   mg/l   \n",
       "3                                       NaN                phunits   \n",
       "4                                       NaN                   mg/l   \n",
       "\n",
       "  sample.sampledMaterialType.label  sample.isComplianceSample  \\\n",
       "0                          UNCODED                      False   \n",
       "1                          UNCODED                      False   \n",
       "2                          UNCODED                      False   \n",
       "3                          UNCODED                      False   \n",
       "4                          UNCODED                      False   \n",
       "\n",
       "                       sample.purpose.label  sample.samplingPoint.easting  \\\n",
       "0  WASTE MONITORING (AGENCY AUDIT - PERMIT)                      442350.0   \n",
       "1  WASTE MONITORING (AGENCY AUDIT - PERMIT)                      442350.0   \n",
       "2  WASTE MONITORING (AGENCY AUDIT - PERMIT)                      442350.0   \n",
       "3  WASTE MONITORING (AGENCY AUDIT - PERMIT)                      442350.0   \n",
       "4  WASTE MONITORING (AGENCY AUDIT - PERMIT)                      442350.0   \n",
       "\n",
       "   sample.samplingPoint.northing    yr  month  day  \n",
       "0                         146570  2000      3   22  \n",
       "1                         146570  2000      3   22  \n",
       "2                         146570  2000      3   22  \n",
       "3                         146570  2000      3   22  \n",
       "4                         146570  2000      3   22  "
      ]
     },
     "execution_count": 4,
     "metadata": {},
     "output_type": "execute_result"
    }
   ],
   "source": [
    "data.head()"
   ]
  },
  {
   "cell_type": "code",
   "execution_count": 5,
   "id": "42d44dd6-013e-4899-8731-2ca40291cb59",
   "metadata": {},
   "outputs": [
    {
     "data": {
      "text/plain": [
       "Index(['id', 'sample.samplingPoint', 'sample.samplingPoint.notation',\n",
       "       'sample.samplingPoint.label', 'sample.sampleDateTime',\n",
       "       'determinand.label', 'determinand.definition', 'determinand.notation',\n",
       "       'resultQualifier.notation', 'result',\n",
       "       'codedResultInterpretation.interpretation', 'determinand.unit.label',\n",
       "       'sample.sampledMaterialType.label', 'sample.isComplianceSample',\n",
       "       'sample.purpose.label', 'sample.samplingPoint.easting',\n",
       "       'sample.samplingPoint.northing', 'yr', 'month', 'day'],\n",
       "      dtype='object')"
      ]
     },
     "execution_count": 5,
     "metadata": {},
     "output_type": "execute_result"
    }
   ],
   "source": [
    "data.columns"
   ]
  },
  {
   "cell_type": "code",
   "execution_count": 43,
   "id": "95ffceb4-c64d-49d7-af86-f89a5e273f3d",
   "metadata": {},
   "outputs": [
    {
     "data": {
      "text/plain": [
       "486176"
      ]
     },
     "execution_count": 43,
     "metadata": {},
     "output_type": "execute_result"
    }
   ],
   "source": [
    "len(data['sample.sampleDateTime'].unique())"
   ]
  },
  {
   "cell_type": "code",
   "execution_count": 10,
   "id": "fb9c06d4-829e-4f75-bbb7-94615c7049ff",
   "metadata": {},
   "outputs": [
    {
     "data": {
      "text/plain": [
       "'http://environment.data.gov.uk/water-quality/id/sampling-point/SO-19801A08'"
      ]
     },
     "execution_count": 10,
     "metadata": {},
     "output_type": "execute_result"
    }
   ],
   "source": [
    "data.iloc[0]['sample.samplingPoint']"
   ]
  },
  {
   "cell_type": "code",
   "execution_count": 11,
   "id": "1a937afe-e74c-4348-9976-1df83d162508",
   "metadata": {},
   "outputs": [
    {
     "data": {
      "text/plain": [
       "'http://environment.data.gov.uk/water-quality/data/measurement/SO-617981-0085'"
      ]
     },
     "execution_count": 11,
     "metadata": {},
     "output_type": "execute_result"
    }
   ],
   "source": [
    "data.iloc[0].id"
   ]
  },
  {
   "cell_type": "code",
   "execution_count": 39,
   "id": "d4aa3630-9721-44e1-a391-db3834464bc3",
   "metadata": {},
   "outputs": [
    {
     "name": "stdout",
     "output_type": "stream",
     "text": [
      "51.216762 -1.395023\n"
     ]
    }
   ],
   "source": [
    "req = requests.get(data.iloc[0]['sample.samplingPoint'])\n",
    "sample_data = req.json()\n",
    "lat = sample_data['items'][0]['lat']\n",
    "long = sample_data['items'][0]['long']\n",
    "\n",
    "print(lat, long)"
   ]
  },
  {
   "cell_type": "code",
   "execution_count": 44,
   "id": "48dff5cc-015c-47c9-ad3d-5e6b814d92b0",
   "metadata": {},
   "outputs": [],
   "source": [
    "from shapely.geometry import Point\n",
    "import geopandas as gpd\n",
    "from geopandas import GeoDataFrame"
   ]
  },
  {
   "cell_type": "code",
   "execution_count": 46,
   "id": "74a294ce-ab35-40b8-a9d3-74f48e25287a",
   "metadata": {},
   "outputs": [],
   "source": [
    "geometry = [Point(xy) for xy in zip(data['sample.samplingPoint.easting'][:10], data['sample.samplingPoint.northing'][:10])]"
   ]
  },
  {
   "cell_type": "code",
   "execution_count": 60,
   "id": "b2277a5e-4018-450a-ba4a-5a60d6bbd1cc",
   "metadata": {},
   "outputs": [],
   "source": [
    "gdf = GeoDataFrame(data[:10], geometry=geometry, crs=27700) \n",
    "gdf = gdf.to_crs(4326)"
   ]
  },
  {
   "cell_type": "code",
   "execution_count": 68,
   "id": "fe017a49-8156-468b-a3c1-a714e419772e",
   "metadata": {},
   "outputs": [
    {
     "data": {
      "text/plain": [
       "<AxesSubplot:>"
      ]
     },
     "execution_count": 68,
     "metadata": {},
     "output_type": "execute_result"
    },
    {
     "data": {
      "image/png": "[encoded data removed]",
      "text/plain": [
       "<Figure size 432x288 with 1 Axes>"
      ]
     },
     "metadata": {
      "needs_background": "light"
     },
     "output_type": "display_data"
    }
   ],
   "source": [
    "world = gpd.read_file(gpd.datasets.get_path('naturalearth_lowres'))\n",
    "ax = world[(world.name == \"United Kingdom\")].plot(color='white', edgecolor='black')\n",
    "gdf.plot(ax=ax, color='red', markersize=5)"
   ]
  },
  {
   "cell_type": "code",
   "execution_count": null,
   "id": "26293199-135e-4813-8fb4-9f220f1fdc4f",
   "metadata": {},
   "outputs": [
    {
     "data": {
      "text/plain": [
       "id                                          http://environment.data.gov.uk/water-quality/d...\n",
       "sample.samplingPoint                        http://environment.data.gov.uk/water-quality/i...\n",
       "sample.samplingPoint.notation                                                     SO-19801A08\n",
       "sample.samplingPoint.label                                             APSLEY FARM BOREHOLE A\n",
       "sample.sampleDateTime                                                     2000-03-22 10:30:00\n",
       "determinand.label                                                                     BOD ATU\n",
       "determinand.definition                                                        BOD : 5 Day ATU\n",
       "determinand.notation                                                                       85\n",
       "resultQualifier.notation                                                                    <\n",
       "result                                                                                    3.0\n",
       "codedResultInterpretation.interpretation                                                  NaN\n",
       "determinand.unit.label                                                                   mg/l\n",
       "sample.sampledMaterialType.label                                                      UNCODED\n",
       "sample.isComplianceSample                                                               False\n",
       "sample.purpose.label                                 WASTE MONITORING (AGENCY AUDIT - PERMIT)\n",
       "sample.samplingPoint.easting                                                         442350.0\n",
       "sample.samplingPoint.northing                                                          146570\n",
       "yr                                                                                       2000\n",
       "month                                                                                       3\n",
       "day                                                                                        22\n",
       "geometry                                       POINT (-1.3950297049434972 51.216766219183306)\n",
       "Name: 0, dtype: object"
      ]
     },
     "execution_count": 66,
     "metadata": {},
     "output_type": "execute_result"
    }
   ],
   "source": [
    "gdf.iloc[0]"
   ]
  },
  {
   "cell_type": "code",
   "execution_count": null,
   "id": "3d2c5de6-f301-4eb5-b53f-89d4a2be8d62",
   "metadata": {},
   "outputs": [],
   "source": []
  }
 ],
 "metadata": {
  "kernelspec": {
   "display_name": "Python 3 (Data Languages Lecture)",
   "language": "python",
   "name": "datalanguages"
  },
  "language_info": {
   "codemirror_mode": {
    "name": "ipython",
    "version": 3
   },
   "file_extension": ".py",
   "mimetype": "text/x-python",
   "name": "python",
   "nbconvert_exporter": "python",
   "pygments_lexer": "ipython3",
   "version": "3.8.9"
  },
  "widgets": {
   "application/vnd.jupyter.widget-state+json": {
    "state": {},
    "version_major": 2,
    "version_minor": 0
   }
  }
 },
 "nbformat": 4,
 "nbformat_minor": 5
}
